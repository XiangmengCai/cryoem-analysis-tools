{
 "cells": [
  {
   "cell_type": "code",
   "execution_count": 4,
   "metadata": {},
   "outputs": [],
   "source": [
    "import numpy as np\n",
    "from matplotlib import pyplot as plt\n",
    "from sklearn.metrics.pairwise import euclidean_distances\n",
    "from sklearn.neighbors import NearestNeighbors"
   ]
  },
  {
   "cell_type": "code",
   "execution_count": 5,
   "metadata": {},
   "outputs": [],
   "source": [
    "def read_csfile(csfile):\n",
    "    content = np.array(np.load(csfile).tolist())\n",
    "    dtype   = np.load(csfile).dtype\n",
    "    header = []\n",
    "    for key in dtype.fields.keys():\n",
    "        header.append(key)\n",
    "    header = np.array(header)\n",
    "    return header, content"
   ]
  },
  {
   "cell_type": "code",
   "execution_count": 6,
   "metadata": {},
   "outputs": [],
   "source": [
    "particle_file = '/Users/Expo/Desktop/Cryo-EM/Project/cryoem-analysis-tools/data/P15_J35_passthrough_particles.cs'"
   ]
  },
  {
   "cell_type": "code",
   "execution_count": null,
   "metadata": {},
   "outputs": [],
   "source": [
    "header, content = read_csfile(particle_file)"
   ]
  },
  {
   "cell_type": "code",
   "execution_count": null,
   "metadata": {},
   "outputs": [],
   "source": [
    "header"
   ]
  },
  {
   "cell_type": "code",
   "execution_count": null,
   "metadata": {},
   "outputs": [],
   "source": [
    "content.shape"
   ]
  },
  {
   "cell_type": "code",
   "execution_count": null,
   "metadata": {},
   "outputs": [],
   "source": [
    "content[:10,1]"
   ]
  },
  {
   "cell_type": "code",
   "execution_count": 9,
   "metadata": {},
   "outputs": [],
   "source": [
    "mic1 = np.where(content[:,1]==content[0,1])"
   ]
  },
  {
   "cell_type": "code",
   "execution_count": 10,
   "metadata": {},
   "outputs": [
    {
     "data": {
      "image/png": "[encoded data removed]",
      "text/plain": [
       "<Figure size 432x288 with 1 Axes>"
      ]
     },
     "metadata": {
      "needs_background": "light"
     },
     "output_type": "display_data"
    }
   ],
   "source": [
    "plt.scatter(content[mic1,5],content[mic1,6])\n",
    "plt.show()"
   ]
  },
  {
   "cell_type": "code",
   "execution_count": 12,
   "metadata": {},
   "outputs": [
    {
     "name": "stdout",
     "output_type": "stream",
     "text": [
      "[0.08141312770360494, 0.13682357916245344, 0.09666353008429537, 0.08231405743433201, 0.08816101606807407, 0.07783754723744624, 0.07614690073802996, 0.07533867830639879, 0.10436714803939229, 0.07974772871266068, 0.0810223822981975, 0.09446486111377957, 0.11634439100030529, 0.09954170359569714, 0.0754597825528635, 0.08504244712535641, 0.11817656011377257, 0.11238948282114013, 0.08816101606807407, 0.09446486111377957, 0.12952583938985837, 0.09923754547009213, 0.12950972366137045, 0.08127858882587152, 0.11634439100030529, 0.09523784726506321, 0.07783754723744624, 0.13818249567775648, 0.07875439937689123, 0.09968371090667404, 0.06879700764571145, 0.08377802364595828, 0.11581977185635034, 0.06753182977827275, 0.06808435818048844, 0.09291292526035422, 0.097940377894478, 0.11454575362146995, 0.09573550116832873, 0.11416051333667772, 0.10221375247127952, 0.09291292526035422, 0.0810223822981975, 0.07875439937689123, 0.06808435818048844, 0.06753182977827275, 0.09954170359569714, 0.08231405743433201, 0.06030330298015876, 0.061651512719803715, 0.074216459395072, 0.09564789930391943, 0.06030330298015876, 0.06879700764571145]\n"
     ]
    }
   ],
   "source": [
    "# Array of the distances to the nearest neighbor\n",
    "min_distances = []\n",
    "\n",
    "# For every point b in the set compute the distance from it to every other point in the set\n",
    "for b in mic1[0]:\n",
    "    location = (content[b, 5], content[b, 6])\n",
    "    distances = []\n",
    "    for n in mic1[0]:\n",
    "        if b != n:\n",
    "            n_location = (content[n, 5], content[n, 6])\n",
    "            dist = np.sqrt((location[0]-n_location[0])**2 + (location[1]-n_location[1])**2)\n",
    "            distances.append(dist)\n",
    "    # Find the minimum distance and add it to the min_distances list\n",
    "    min_distances.append(min(distances))\n",
    "    \n",
    "print(min_distances)"
   ]
  },
  {
   "cell_type": "code",
   "execution_count": 24,
   "metadata": {},
   "outputs": [
    {
     "ename": "NameError",
     "evalue": "name 'euclidean_distances' is not defined",
     "output_type": "error",
     "traceback": [
      "\u001b[0;31m---------------------------------------------------------------------------\u001b[0m",
      "\u001b[0;31mNameError\u001b[0m                                 Traceback (most recent call last)",
      "\u001b[0;32m<ipython-input-24-b4cbfcc7eb2a>\u001b[0m in \u001b[0;36m<module>\u001b[0;34m\u001b[0m\n\u001b[1;32m      1\u001b[0m \u001b[0mloc\u001b[0m \u001b[0;34m=\u001b[0m \u001b[0mlist\u001b[0m\u001b[0;34m(\u001b[0m\u001b[0mzip\u001b[0m\u001b[0;34m(\u001b[0m\u001b[0mcontent\u001b[0m\u001b[0;34m[\u001b[0m\u001b[0mmic1\u001b[0m\u001b[0;34m,\u001b[0m\u001b[0;36m5\u001b[0m\u001b[0;34m]\u001b[0m\u001b[0;34m[\u001b[0m\u001b[0;36m0\u001b[0m\u001b[0;34m]\u001b[0m\u001b[0;34m,\u001b[0m \u001b[0mcontent\u001b[0m\u001b[0;34m[\u001b[0m\u001b[0mmic1\u001b[0m\u001b[0;34m,\u001b[0m\u001b[0;36m6\u001b[0m\u001b[0;34m]\u001b[0m\u001b[0;34m[\u001b[0m\u001b[0;36m0\u001b[0m\u001b[0;34m]\u001b[0m\u001b[0;34m)\u001b[0m\u001b[0;34m)\u001b[0m\u001b[0;34m\u001b[0m\u001b[0;34m\u001b[0m\u001b[0m\n\u001b[0;32m----> 2\u001b[0;31m \u001b[0mdistances\u001b[0m \u001b[0;34m=\u001b[0m \u001b[0meuclidean_distances\u001b[0m\u001b[0;34m(\u001b[0m\u001b[0mloc\u001b[0m\u001b[0;34m,\u001b[0m \u001b[0mloc\u001b[0m\u001b[0;34m)\u001b[0m\u001b[0;34m\u001b[0m\u001b[0;34m\u001b[0m\u001b[0m\n\u001b[0m",
      "\u001b[0;31mNameError\u001b[0m: name 'euclidean_distances' is not defined"
     ]
    }
   ],
   "source": [
    "loc = list(zip(content[mic1,5][0], content[mic1,6][0]))\n",
    "distances = euclidean_distances(loc, loc)\n"
   ]
  },
  {
   "cell_type": "code",
   "execution_count": null,
   "metadata": {},
   "outputs": [],
   "source": [
    "X = np.array([zip(content[mic1,5][0], content[mic1,6][0])])\n",
    "nbrs = NearestNeighbors(n_neighbors=2, algorithm='ball_tree').fit(X)\n",
    "distances, indices = nbrs.kneighbors(X)"
   ]
  }
 ],
 "metadata": {
  "kernelspec": {
   "display_name": "Python 3",
   "language": "python",
   "name": "python3"
  },
  "language_info": {
   "codemirror_mode": {
    "name": "ipython",
    "version": 3
   },
   "file_extension": ".py",
   "mimetype": "text/x-python",
   "name": "python",
   "nbconvert_exporter": "python",
   "pygments_lexer": "ipython3",
   "version": "3.7.3"
  }
 },
 "nbformat": 4,
 "nbformat_minor": 4
}

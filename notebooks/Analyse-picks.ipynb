{
 "cells": [
  {
   "cell_type": "markdown",
   "metadata": {},
   "source": [
    "# Cryo-EM Ribosome Nearest Distance Neighbour Project"
   ]
  },
  {
   "cell_type": "markdown",
   "metadata": {},
   "source": [
    "## 1. Introduction"
   ]
  },
  {
   "cell_type": "markdown",
   "metadata": {},
   "source": [
    "## 2. Data used for this analysis"
   ]
  },
  {
   "cell_type": "markdown",
   "metadata": {},
   "source": [
    "### Preprocessing the data"
   ]
  },
  {
   "cell_type": "markdown",
   "metadata": {},
   "source": [
    "### Data Structure"
   ]
  },
  {
   "cell_type": "markdown",
   "metadata": {},
   "source": [
    "Here we first define a function read_csfile(), which reads the input dataset and output the header and content."
   ]
  },
  {
   "cell_type": "code",
   "execution_count": null,
   "metadata": {},
   "outputs": [],
   "source": [
    "def read_csfile(csfile):\n",
    "    content = np.array(np.load(csfile).tolist())\n",
    "    dtype   = np.load(csfile).dtype\n",
    "    header = []\n",
    "    for key in dtype.fields.keys():\n",
    "        header.append(key)\n",
    "    header = np.array(header)\n",
    "    return header, content"
   ]
  },
  {
   "cell_type": "code",
   "execution_count": 65,
   "metadata": {},
   "outputs": [],
   "source": [
    "particle_file = '/Users/Expo/Desktop/Cryo-EM/Project/cryoem-analysis-tools/data/P8_J60_passthrough_particles.cs'\n",
    "header, content = read_csfile(particle_file)"
   ]
  },
  {
   "cell_type": "markdown",
   "metadata": {},
   "source": [
    "The shape of the content array is (244798, 28), which means there are 244,798 data points represented as arrays in the content array, and each data point (array) has 28 elements. "
   ]
  },
  {
   "cell_type": "code",
   "execution_count": 68,
   "metadata": {},
   "outputs": [
    {
     "name": "stdout",
     "output_type": "stream",
     "text": [
      "(244798, 28)\n"
     ]
    }
   ],
   "source": [
    "print(content.shape)"
   ]
  },
  {
   "cell_type": "markdown",
   "metadata": {},
   "source": [
    "The header contains the information of how the data is organized in the content array. For example, we see the first element of every data point is the unique id, which is used to identify a specific group of micrographs. The information most relevant to us is the 'location/center_x_frac' and 'location/center_y_frac' element."
   ]
  },
  {
   "cell_type": "code",
   "execution_count": 66,
   "metadata": {},
   "outputs": [
    {
     "name": "stdout",
     "output_type": "stream",
     "text": [
      "['uid' 'location/micrograph_uid' 'location/exp_group_id'\n",
      " 'location/micrograph_path' 'location/micrograph_shape'\n",
      " 'location/center_x_frac' 'location/center_y_frac' 'pick_stats/ncc_score'\n",
      " 'pick_stats/power' 'pick_stats/template_idx' 'pick_stats/angle_rad'\n",
      " 'ctf/type' 'ctf/exp_group_id' 'ctf/accel_kv' 'ctf/cs_mm'\n",
      " 'ctf/amp_contrast' 'ctf/df1_A' 'ctf/df2_A' 'ctf/df_angle_rad'\n",
      " 'ctf/phase_shift_rad' 'ctf/scale' 'ctf/scale_const' 'ctf/shift_A'\n",
      " 'ctf/tilt_A' 'ctf/trefoil_A' 'ctf/tetra_A' 'ctf/anisomag' 'ctf/bfactor']\n"
     ]
    }
   ],
   "source": [
    "print(header)"
   ]
  },
  {
   "cell_type": "markdown",
   "metadata": {},
   "source": [
    "## 3. Implementation"
   ]
  },
  {
   "cell_type": "code",
   "execution_count": 23,
   "metadata": {},
   "outputs": [],
   "source": [
    "import numpy as np\n",
    "import seaborn as sns\n",
    "from matplotlib import pyplot as plt\n",
    "from sklearn.metrics.pairwise import euclidean_distances\n",
    "from sklearn.neighbors import NearestNeighbors"
   ]
  },
  {
   "cell_type": "code",
   "execution_count": 41,
   "metadata": {},
   "outputs": [],
   "source": [
    "def read_csfile(csfile):\n",
    "    content = np.array(np.load(csfile).tolist())\n",
    "    dtype   = np.load(csfile).dtype\n",
    "    header = []\n",
    "    for key in dtype.fields.keys():\n",
    "        header.append(key)\n",
    "    header = np.array(header)\n",
    "    return header, content"
   ]
  },
  {
   "cell_type": "code",
   "execution_count": 42,
   "metadata": {},
   "outputs": [],
   "source": [
    "particle_file = '/Users/Expo/Desktop/Cryo-EM/Project/cryoem-analysis-tools/data/P8_J60_passthrough_particles.cs'"
   ]
  },
  {
   "cell_type": "code",
   "execution_count": 43,
   "metadata": {},
   "outputs": [],
   "source": [
    "header, content = read_csfile(particle_file)"
   ]
  },
  {
   "cell_type": "code",
   "execution_count": 44,
   "metadata": {},
   "outputs": [
    {
     "data": {
      "text/plain": [
       "array(['uid', 'location/micrograph_uid', 'location/exp_group_id',\n",
       "       'location/micrograph_path', 'location/micrograph_shape',\n",
       "       'location/center_x_frac', 'location/center_y_frac',\n",
       "       'pick_stats/ncc_score', 'pick_stats/power',\n",
       "       'pick_stats/template_idx', 'pick_stats/angle_rad', 'ctf/type',\n",
       "       'ctf/exp_group_id', 'ctf/accel_kv', 'ctf/cs_mm',\n",
       "       'ctf/amp_contrast', 'ctf/df1_A', 'ctf/df2_A', 'ctf/df_angle_rad',\n",
       "       'ctf/phase_shift_rad', 'ctf/scale', 'ctf/scale_const',\n",
       "       'ctf/shift_A', 'ctf/tilt_A', 'ctf/trefoil_A', 'ctf/tetra_A',\n",
       "       'ctf/anisomag', 'ctf/bfactor'], dtype='<U25')"
      ]
     },
     "execution_count": 44,
     "metadata": {},
     "output_type": "execute_result"
    }
   ],
   "source": [
    "header"
   ]
  },
  {
   "cell_type": "code",
   "execution_count": 45,
   "metadata": {},
   "outputs": [
    {
     "data": {
      "text/plain": [
       "(244798, 28)"
      ]
     },
     "execution_count": 45,
     "metadata": {},
     "output_type": "execute_result"
    }
   ],
   "source": [
    "content.shape"
   ]
  },
  {
   "cell_type": "code",
   "execution_count": 46,
   "metadata": {},
   "outputs": [
    {
     "data": {
      "text/plain": [
       "array([12048556009868800315, 12048556009868800315, 12048556009868800315,\n",
       "       12048556009868800315, 12048556009868800315, 12048556009868800315,\n",
       "       12048556009868800315, 12048556009868800315, 12048556009868800315,\n",
       "       12048556009868800315], dtype=object)"
      ]
     },
     "execution_count": 46,
     "metadata": {},
     "output_type": "execute_result"
    }
   ],
   "source": [
    "content[:10,1]"
   ]
  },
  {
   "cell_type": "code",
   "execution_count": 47,
   "metadata": {},
   "outputs": [],
   "source": [
    "mic1 = np.where(content[:,1]==content[0,1])"
   ]
  },
  {
   "cell_type": "code",
   "execution_count": 48,
   "metadata": {},
   "outputs": [
    {
     "data": {
      "image/png": "[encoded data removed]",
      "text/plain": [
       "<Figure size 432x288 with 1 Axes>"
      ]
     },
     "metadata": {
      "needs_background": "light"
     },
     "output_type": "display_data"
    }
   ],
   "source": [
    "plt.scatter(content[mic1,5],content[mic1,6])\n",
    "plt.show()"
   ]
  },
  {
   "cell_type": "code",
   "execution_count": 49,
   "metadata": {},
   "outputs": [],
   "source": [
    "# Using sklearn.metrics.pairwise.euclidean_distances function\n",
    "def findMinDistance(mic, min_distance):\n",
    "    loc = list(zip(content[mic,5][0], content[mic,6][0]))\n",
    "    distances = euclidean_distances(loc, loc)\n",
    "\n",
    "    for x in distances:\n",
    "        minval = np.min(x[np.nonzero(x)])\n",
    "        min_distances.append(minval)"
   ]
  },
  {
   "cell_type": "code",
   "execution_count": 59,
   "metadata": {},
   "outputs": [],
   "source": [
    "# Array of distance to the nearest neighbor\n",
    "min_distances=[]\n",
    "\n",
    "# Find the unique ID of the pictures\n",
    "uniqID = np.unique(content[:,1])\n",
    "\n",
    "for i in uniqID:\n",
    "    mic = np.where(content[:,1]==i)\n",
    "    if(mic[0].shape[0]>1):\n",
    "        findMinDistance(mic, min_distances)"
   ]
  },
  {
   "cell_type": "code",
   "execution_count": 61,
   "metadata": {},
   "outputs": [
    {
     "name": "stdout",
     "output_type": "stream",
     "text": [
      "244667\n"
     ]
    },
    {
     "data": {
      "image/png": "[encoded data removed]",
      "text/plain": [
       "<Figure size 432x288 with 1 Axes>"
      ]
     },
     "metadata": {
      "needs_background": "light"
     },
     "output_type": "display_data"
    }
   ],
   "source": [
    "sns.distplot(min_distances, hist=True, kde = False, bins = 100);\n",
    "print(len(min_distances))"
   ]
  },
  {
   "cell_type": "code",
   "execution_count": null,
   "metadata": {},
   "outputs": [],
   "source": []
  }
 ],
 "metadata": {
  "kernelspec": {
   "display_name": "Python 3",
   "language": "python",
   "name": "python3"
  },
  "language_info": {
   "codemirror_mode": {
    "name": "ipython",
    "version": 3
   },
   "file_extension": ".py",
   "mimetype": "text/x-python",
   "name": "python",
   "nbconvert_exporter": "python",
   "pygments_lexer": "ipython3",
   "version": "3.8.3"
  }
 },
 "nbformat": 4,
 "nbformat_minor": 4
}

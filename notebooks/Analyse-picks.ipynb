{
 "cells": [
  {
   "cell_type": "code",
   "execution_count": 1,
   "metadata": {},
   "outputs": [],
   "source": [
    "import numpy as np\n",
    "from matplotlib import pyplot as plt\n",
    "from sklearn.metrics.pairwise import euclidean_distances\n",
    "from sklearn.neighbors import NearestNeighbors"
   ]
  },
  {
   "cell_type": "code",
   "execution_count": 2,
   "metadata": {},
   "outputs": [],
   "source": [
    "def read_csfile(csfile):\n",
    "    content = np.array(np.load(csfile).tolist())\n",
    "    dtype   = np.load(csfile).dtype\n",
    "    header = []\n",
    "    for key in dtype.fields.keys():\n",
    "        header.append(key)\n",
    "    header = np.array(header)\n",
    "    return header, content"
   ]
  },
  {
   "cell_type": "code",
   "execution_count": 3,
   "metadata": {},
   "outputs": [],
   "source": [
    "particle_file = '/Users/Expo/Desktop/Cryo-EM/Project/cryoem-analysis-tools/data/P15_J35_passthrough_particles.cs'"
   ]
  },
  {
   "cell_type": "code",
   "execution_count": 4,
   "metadata": {},
   "outputs": [],
   "source": [
    "header, content = read_csfile(particle_file)"
   ]
  },
  {
   "cell_type": "code",
   "execution_count": 5,
   "metadata": {},
   "outputs": [
    {
     "data": {
      "text/plain": [
       "array(['uid', 'location/micrograph_uid', 'location/exp_group_id',\n",
       "       'location/micrograph_path', 'location/micrograph_shape',\n",
       "       'location/center_x_frac', 'location/center_y_frac',\n",
       "       'pick_stats/ncc_score', 'pick_stats/power',\n",
       "       'pick_stats/template_idx', 'pick_stats/angle_rad', 'ctf/type',\n",
       "       'ctf/exp_group_id', 'ctf/accel_kv', 'ctf/cs_mm',\n",
       "       'ctf/amp_contrast', 'ctf/df1_A', 'ctf/df2_A', 'ctf/df_angle_rad',\n",
       "       'ctf/phase_shift_rad', 'ctf/scale', 'ctf/scale_const',\n",
       "       'ctf/shift_A', 'ctf/tilt_A', 'ctf/trefoil_A', 'ctf/tetra_A',\n",
       "       'ctf/anisomag', 'ctf/bfactor'], dtype='<U25')"
      ]
     },
     "execution_count": 5,
     "metadata": {},
     "output_type": "execute_result"
    }
   ],
   "source": [
    "header"
   ]
  },
  {
   "cell_type": "code",
   "execution_count": 6,
   "metadata": {},
   "outputs": [
    {
     "data": {
      "text/plain": [
       "(193557, 28)"
      ]
     },
     "execution_count": 6,
     "metadata": {},
     "output_type": "execute_result"
    }
   ],
   "source": [
    "content.shape"
   ]
  },
  {
   "cell_type": "code",
   "execution_count": 7,
   "metadata": {},
   "outputs": [
    {
     "data": {
      "text/plain": [
       "array([2325032373660092106, 2325032373660092106, 2325032373660092106,\n",
       "       2325032373660092106, 2325032373660092106, 2325032373660092106,\n",
       "       2325032373660092106, 2325032373660092106, 2325032373660092106,\n",
       "       2325032373660092106], dtype=object)"
      ]
     },
     "execution_count": 7,
     "metadata": {},
     "output_type": "execute_result"
    }
   ],
   "source": [
    "content[:10,1]"
   ]
  },
  {
   "cell_type": "code",
   "execution_count": 8,
   "metadata": {},
   "outputs": [],
   "source": [
    "mic1 = np.where(content[:,1]==content[0,1])"
   ]
  },
  {
   "cell_type": "code",
   "execution_count": 9,
   "metadata": {},
   "outputs": [
    {
     "data": {
      "image/png": "[encoded data removed]",
      "text/plain": [
       "<Figure size 432x288 with 1 Axes>"
      ]
     },
     "metadata": {
      "needs_background": "light"
     },
     "output_type": "display_data"
    }
   ],
   "source": [
    "plt.scatter(content[mic1,5],content[mic1,6])\n",
    "plt.show()"
   ]
  },
  {
   "cell_type": "code",
   "execution_count": 22,
   "metadata": {},
   "outputs": [],
   "source": [
    "# Using sklearn.metrics.pairwise.euclidean_distances function\n",
    "def findMinDistance(mic, min_distance):\n",
    "    loc = list(zip(content[mic,5][0], content[mic,6][0]))\n",
    "    distances = euclidean_distances(loc, loc)\n",
    "\n",
    "    for x in distances:\n",
    "        minval = np.min(x[np.nonzero(x)])\n",
    "        min_distances.append(minval)"
   ]
  },
  {
   "cell_type": "code",
   "execution_count": 33,
   "metadata": {},
   "outputs": [],
   "source": [
    "# Array of distance to the nearest neighbor\n",
    "min_distances=[]\n",
    "\n",
    "# Find the unique ID of the pictures\n",
    "uniqID = np.unique(content[:,1])\n",
    "\n",
    "for i in uniqID:\n",
    "    mic = np.where(content[:,1]==i)\n",
    "    findMinDistance(mic, min_distances)"
   ]
  },
  {
   "cell_type": "code",
   "execution_count": 34,
   "metadata": {},
   "outputs": [
    {
     "name": "stderr",
     "output_type": "stream",
     "text": [
      "IOPub data rate exceeded.\n",
      "The notebook server will temporarily stop sending output\n",
      "to the client in order to avoid crashing it.\n",
      "To change this limit, set the config variable\n",
      "`--NotebookApp.iopub_data_rate_limit`.\n",
      "\n",
      "Current values:\n",
      "NotebookApp.iopub_data_rate_limit=1000000.0 (bytes/sec)\n",
      "NotebookApp.rate_limit_window=3.0 (secs)\n",
      "\n"
     ]
    }
   ],
   "source": [
    "print(len(min_distances), min_distances)"
   ]
  },
  {
   "cell_type": "code",
   "execution_count": null,
   "metadata": {},
   "outputs": [],
   "source": []
  }
 ],
 "metadata": {
  "kernelspec": {
   "display_name": "Python 3",
   "language": "python",
   "name": "python3"
  },
  "language_info": {
   "codemirror_mode": {
    "name": "ipython",
    "version": 3
   },
   "file_extension": ".py",
   "mimetype": "text/x-python",
   "name": "python",
   "nbconvert_exporter": "python",
   "pygments_lexer": "ipython3",
   "version": "3.7.3"
  }
 },
 "nbformat": 4,
 "nbformat_minor": 4
}

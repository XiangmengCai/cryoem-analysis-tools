{
 "cells": [
  {
   "cell_type": "markdown",
   "metadata": {},
   "source": [
    "# Cryo-EM Ribosome Nearest Distance Neighbour Project"
   ]
  },
  {
   "cell_type": "markdown",
   "metadata": {},
   "source": [
    "## 1. Introduction"
   ]
  },
  {
   "cell_type": "markdown",
   "metadata": {},
   "source": [
    "We are interested in how viral infeciton influeces the normal biology of the cells. In this project, we used Cryo-EM to take pictures of human cells infected by polio virus. We specifically focused on the ribosome structure. In our cells, ribosomes can exist in different congregations. When one ribosome occupies a single RNA, it forms a monosome; and when a cluster of ribosomes come together on messenger RNA when translating, it forms a polysome structure. Here we want to exploit the high resolution power of Cryo-EM to analyze the conformational change of  ribosome after the cell was infected. \n",
    "\n",
    "In this notebook we present a branch of project, where we analyze the distances between ribosome particles. We want to have a closer look at the distribution pattern of the ribosome particles and try to explore whether viral infection will change the ribosome distribution or not."
   ]
  },
  {
   "cell_type": "markdown",
   "metadata": {},
   "source": [
    "## 2. Data used for this analysis"
   ]
  },
  {
   "cell_type": "markdown",
   "metadata": {},
   "source": [
    "### Data Structure"
   ]
  },
  {
   "cell_type": "markdown",
   "metadata": {},
   "source": [
    "Here we first define a function read_csfile(), which reads the input dataset and output the header and content."
   ]
  },
  {
   "cell_type": "code",
   "execution_count": 13,
   "metadata": {},
   "outputs": [],
   "source": [
    "import numpy as np\n",
    "import seaborn as sns   # searborn is a convinient package for scientific plotting\n",
    "from matplotlib import pyplot as plt\n",
    "from sklearn.metrics.pairwise import euclidean_distances"
   ]
  },
  {
   "cell_type": "code",
   "execution_count": 14,
   "metadata": {},
   "outputs": [],
   "source": [
    "def read_csfile(csfile):\n",
    "    content = np.array(np.load(csfile).tolist())\n",
    "    dtype   = np.load(csfile).dtype\n",
    "    header = []\n",
    "    for key in dtype.fields.keys():\n",
    "        header.append(key)\n",
    "    header = np.array(header)\n",
    "    return header, content"
   ]
  },
  {
   "cell_type": "code",
   "execution_count": 15,
   "metadata": {},
   "outputs": [],
   "source": [
    "particle_file = '/Users/Expo/Desktop/Cryo-EM/Project/cryoem-analysis-tools/data/P8_J60_passthrough_particles.cs'\n",
    "header, content = read_csfile(particle_file)"
   ]
  },
  {
   "cell_type": "markdown",
   "metadata": {},
   "source": [
    "The shape of the content array is (244798, 28), which means there are 244,798 data points represented as arrays in the content array, and each data point (array) has 28 elements. "
   ]
  },
  {
   "cell_type": "code",
   "execution_count": 51,
   "metadata": {},
   "outputs": [
    {
     "name": "stdout",
     "output_type": "stream",
     "text": [
      "(193557, 28)\n"
     ]
    }
   ],
   "source": [
    "print(content.shape)"
   ]
  },
  {
   "cell_type": "markdown",
   "metadata": {},
   "source": [
    "The header contains the information of how the data is organized in the content array. For example, we see the first element of every data point is the unique id, which is used to identify a specific group of micrographs. The information most relevant to us is the 'location/center_x_frac' and 'location/center_y_frac' element."
   ]
  },
  {
   "cell_type": "code",
   "execution_count": 53,
   "metadata": {},
   "outputs": [
    {
     "name": "stdout",
     "output_type": "stream",
     "text": [
      "['uid' 'location/micrograph_uid' 'location/exp_group_id'\n",
      " 'location/micrograph_path' 'location/micrograph_shape'\n",
      " 'location/center_x_frac' 'location/center_y_frac' 'pick_stats/ncc_score'\n",
      " 'pick_stats/power' 'pick_stats/template_idx' 'pick_stats/angle_rad'\n",
      " 'ctf/type' 'ctf/exp_group_id' 'ctf/accel_kv' 'ctf/cs_mm'\n",
      " 'ctf/amp_contrast' 'ctf/df1_A' 'ctf/df2_A' 'ctf/df_angle_rad'\n",
      " 'ctf/phase_shift_rad' 'ctf/scale' 'ctf/scale_const' 'ctf/shift_A'\n",
      " 'ctf/tilt_A' 'ctf/trefoil_A' 'ctf/tetra_A' 'ctf/anisomag' 'ctf/bfactor']\n"
     ]
    }
   ],
   "source": [
    "print(header)"
   ]
  },
  {
   "cell_type": "code",
   "execution_count": 56,
   "metadata": {},
   "outputs": [
    {
     "name": "stdout",
     "output_type": "stream",
     "text": [
      "[2325032373660092106 2325032373660092106 2325032373660092106\n",
      " 2325032373660092106 2325032373660092106 2325032373660092106\n",
      " 2325032373660092106 2325032373660092106 2325032373660092106\n",
      " 2325032373660092106]\n"
     ]
    }
   ],
   "source": [
    "print(content[:10,1])"
   ]
  },
  {
   "cell_type": "code",
   "execution_count": 18,
   "metadata": {},
   "outputs": [
    {
     "data": {
      "image/png": "[encoded data removed]",
      "text/plain": [
       "<Figure size 432x288 with 1 Axes>"
      ]
     },
     "metadata": {
      "needs_background": "light"
     },
     "output_type": "display_data"
    }
   ],
   "source": [
    "mic1 = np.where(content[:,1]==content[0,1])\n",
    "plt.scatter(content[mic1,5],content[mic1,6])\n",
    "plt.show()"
   ]
  },
  {
   "cell_type": "markdown",
   "metadata": {},
   "source": [
    "## 3. Implementation"
   ]
  },
  {
   "cell_type": "markdown",
   "metadata": {},
   "source": [
    "### Introduction to the implementation"
   ]
  },
  {
   "cell_type": "code",
   "execution_count": 21,
   "metadata": {},
   "outputs": [],
   "source": [
    "# Using sklearn.metrics.pairwise.euclidean_distances function\n",
    "def findMinDistance(mic, min_distance):\n",
    "    loc = list(zip(content[mic,5][0], content[mic,6][0]))\n",
    "    distances = euclidean_distances(loc, loc)\n",
    "\n",
    "    for x in distances:\n",
    "        minval = np.min(x[np.nonzero(x)])\n",
    "        min_distance.append(minval)"
   ]
  },
  {
   "cell_type": "code",
   "execution_count": 22,
   "metadata": {},
   "outputs": [],
   "source": [
    "def processContent(content):\n",
    "    min_distance = []\n",
    "    # Find the unique ID of the pictures\n",
    "    uniqID = np.unique(content[:,1])\n",
    "\n",
    "    for i in uniqID:\n",
    "        mic = np.where(content[:,1]==i)\n",
    "        if(mic[0].shape[0]>1):\n",
    "            findMinDistance(mic, min_distance)\n",
    "            \n",
    "    return min_distance"
   ]
  },
  {
   "cell_type": "code",
   "execution_count": 23,
   "metadata": {},
   "outputs": [],
   "source": [
    "particle_file = ['/Users/Expo/Desktop/Cryo-EM/Project/cryoem-analysis-tools/data/P5_J67_passthrough_particles.cs',\n",
    "                '/Users/Expo/Desktop/Cryo-EM/Project/cryoem-analysis-tools/data/P8_J60_passthrough_particles.cs',\n",
    "                '/Users/Expo/Desktop/Cryo-EM/Project/cryoem-analysis-tools/data/P15_J35_passthrough_particles.cs']"
   ]
  },
  {
   "cell_type": "code",
   "execution_count": 32,
   "metadata": {},
   "outputs": [],
   "source": [
    "min_distances = []\n",
    "\n",
    "for file in particle_file:\n",
    "    header, content = read_csfile(file)\n",
    "    min_distances.append(np.asarray(processContent(content)))"
   ]
  },
  {
   "cell_type": "markdown",
   "metadata": {},
   "source": [
    "## 4. Analyze result"
   ]
  },
  {
   "cell_type": "code",
   "execution_count": 50,
   "metadata": {},
   "outputs": [
    {
     "data": {
      "image/png": "[encoded data removed]",
      "text/plain": [
       "<Figure size 720x720 with 1 Axes>"
      ]
     },
     "metadata": {
      "needs_background": "light"
     },
     "output_type": "display_data"
    },
    {
     "data": {
      "image/png": "[encoded data removed]",
      "text/plain": [
       "<Figure size 720x720 with 1 Axes>"
      ]
     },
     "metadata": {
      "needs_background": "light"
     },
     "output_type": "display_data"
    },
    {
     "data": {
      "image/png": "[encoded data removed]",
      "text/plain": [
       "<Figure size 720x720 with 1 Axes>"
      ]
     },
     "metadata": {
      "needs_background": "light"
     },
     "output_type": "display_data"
    }
   ],
   "source": [
    "for i in range(1,4):\n",
    "    plt.figure(figsize=(10,10))\n",
    "    plt.subplot(3,1,i)\n",
    "    sns.distplot(min_distances[i-1], hist=True, kde = False, bins = 100).set_title(particle_file[i-1]);\n",
    "    plt.xlim(0, 0.5)\n",
    "    plt.xlabel('Distance')\n",
    "    plt.ylabel('Number of Particles')\n",
    "    plt.show()"
   ]
  },
  {
   "cell_type": "code",
   "execution_count": null,
   "metadata": {},
   "outputs": [],
   "source": []
  }
 ],
 "metadata": {
  "kernelspec": {
   "display_name": "Python 3",
   "language": "python",
   "name": "python3"
  },
  "language_info": {
   "codemirror_mode": {
    "name": "ipython",
    "version": 3
   },
   "file_extension": ".py",
   "mimetype": "text/x-python",
   "name": "python",
   "nbconvert_exporter": "python",
   "pygments_lexer": "ipython3",
   "version": "3.8.3"
  }
 },
 "nbformat": 4,
 "nbformat_minor": 4
}
